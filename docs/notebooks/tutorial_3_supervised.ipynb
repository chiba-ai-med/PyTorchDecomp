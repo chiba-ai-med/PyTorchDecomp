{
 "cells": [
  {
   "cell_type": "markdown",
   "id": "dd1f53c2-eeba-48cc-915a-0e3682dc5ee2",
   "metadata": {},
   "source": [
    "# 3. Supervised Dimensional Reduction (PCA vs PLS)"
   ]
  },
  {
   "cell_type": "code",
   "execution_count": 1,
   "id": "d5172e0f-6c32-46c4-ae69-fcc404ecea6c",
   "metadata": {},
   "outputs": [
    {
     "name": "stdout",
     "output_type": "stream",
     "text": [
      "1\n"
     ]
    }
   ],
   "source": [
    "print(1)"
   ]
  },
  {
   "cell_type": "code",
   "execution_count": null,
   "id": "9fb792ad-dca3-4aad-9e8f-44791aa7379d",
   "metadata": {},
   "outputs": [],
   "source": []
  }
 ],
 "metadata": {
  "kernelspec": {
   "display_name": "Python 3 (ipykernel)",
   "language": "python",
   "name": "python3"
  },
  "language_info": {
   "codemirror_mode": {
    "name": "ipython",
    "version": 3
   },
   "file_extension": ".py",
   "mimetype": "text/x-python",
   "name": "python",
   "nbconvert_exporter": "python",
   "pygments_lexer": "ipython3",
   "version": "3.12.2"
  }
 },
 "nbformat": 4,
 "nbformat_minor": 5
}
