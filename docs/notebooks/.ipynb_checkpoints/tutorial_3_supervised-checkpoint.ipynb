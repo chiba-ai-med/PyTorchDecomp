{
 "cells": [
  {
   "cell_type": "markdown",
   "id": "dd1f53c2-eeba-48cc-915a-0e3682dc5ee2",
   "metadata": {},
   "source": [
    "# 3. Supervised Dimensional Reduction (PCA vs PLS)"
   ]
  },
  {
   "cell_type": "markdown",
   "id": "6de95002-c89f-46f3-ac0b-fb00fd7692f0",
   "metadata": {},
   "source": [
    "## Setting"
   ]
  },
  {
   "cell_type": "code",
   "execution_count": 1,
   "id": "545b5946-8836-47f3-a7b6-db07a02255ed",
   "metadata": {},
   "outputs": [
    {
     "name": "stdout",
     "output_type": "stream",
     "text": [
      "Collecting git+https://github.com/chiba-ai-med/PyTorchDecomp.git\n",
      "  Cloning https://github.com/chiba-ai-med/PyTorchDecomp.git to /private/var/folders/k0/tk8gl4bj2_v2mbjx80ydsznw0000gn/T/pip-req-build-sd6z2b88\n"
     ]
    },
    {
     "name": "stderr",
     "output_type": "stream",
     "text": [
      "  Running command git clone --filter=blob:none --quiet https://github.com/chiba-ai-med/PyTorchDecomp.git /private/var/folders/k0/tk8gl4bj2_v2mbjx80ydsznw0000gn/T/pip-req-build-sd6z2b88\n"
     ]
    },
    {
     "name": "stdout",
     "output_type": "stream",
     "text": [
      "  Resolved https://github.com/chiba-ai-med/PyTorchDecomp.git to commit c3bf715e40fa8ae48b903a79f2102304b8ecaa98\n",
      "  Installing build dependencies: started\n",
      "  Installing build dependencies: finished with status 'done'\n",
      "  Getting requirements to build wheel: started\n",
      "  Getting requirements to build wheel: finished with status 'done'\n",
      "  Preparing metadata (pyproject.toml): started\n",
      "  Preparing metadata (pyproject.toml): finished with status 'done'\n",
      "Requirement already satisfied: matplotlib<4.0.0,>=3.8.3 in /Users/tsuyusakikouki/opt/anaconda3/envs/pytorch/lib/python3.12/site-packages (from torchdecomp==1.3.0) (3.8.3)\n",
      "Requirement already satisfied: numpy<2.0.0,>=1.26.4 in /Users/tsuyusakikouki/opt/anaconda3/envs/pytorch/lib/python3.12/site-packages (from torchdecomp==1.3.0) (1.26.4)\n",
      "Requirement already satisfied: torch<3.0.0,>=2.2.0 in /Users/tsuyusakikouki/opt/anaconda3/envs/pytorch/lib/python3.12/site-packages (from torchdecomp==1.3.0) (2.2.1)\n",
      "Requirement already satisfied: torchvision<0.18.0,>=0.17.0 in /Users/tsuyusakikouki/opt/anaconda3/envs/pytorch/lib/python3.12/site-packages (from torchdecomp==1.3.0) (0.17.1)\n",
      "Requirement already satisfied: contourpy>=1.0.1 in /Users/tsuyusakikouki/opt/anaconda3/envs/pytorch/lib/python3.12/site-packages (from matplotlib<4.0.0,>=3.8.3->torchdecomp==1.3.0) (1.2.0)\n",
      "Requirement already satisfied: cycler>=0.10 in /Users/tsuyusakikouki/opt/anaconda3/envs/pytorch/lib/python3.12/site-packages (from matplotlib<4.0.0,>=3.8.3->torchdecomp==1.3.0) (0.12.1)\n",
      "Requirement already satisfied: fonttools>=4.22.0 in /Users/tsuyusakikouki/opt/anaconda3/envs/pytorch/lib/python3.12/site-packages (from matplotlib<4.0.0,>=3.8.3->torchdecomp==1.3.0) (4.49.0)\n",
      "Requirement already satisfied: kiwisolver>=1.3.1 in /Users/tsuyusakikouki/opt/anaconda3/envs/pytorch/lib/python3.12/site-packages (from matplotlib<4.0.0,>=3.8.3->torchdecomp==1.3.0) (1.4.5)\n",
      "Requirement already satisfied: packaging>=20.0 in /Users/tsuyusakikouki/opt/anaconda3/envs/pytorch/lib/python3.12/site-packages (from matplotlib<4.0.0,>=3.8.3->torchdecomp==1.3.0) (23.2)\n",
      "Requirement already satisfied: pillow>=8 in /Users/tsuyusakikouki/opt/anaconda3/envs/pytorch/lib/python3.12/site-packages (from matplotlib<4.0.0,>=3.8.3->torchdecomp==1.3.0) (10.2.0)\n",
      "Requirement already satisfied: pyparsing>=2.3.1 in /Users/tsuyusakikouki/opt/anaconda3/envs/pytorch/lib/python3.12/site-packages (from matplotlib<4.0.0,>=3.8.3->torchdecomp==1.3.0) (3.1.2)\n",
      "Requirement already satisfied: python-dateutil>=2.7 in /Users/tsuyusakikouki/opt/anaconda3/envs/pytorch/lib/python3.12/site-packages (from matplotlib<4.0.0,>=3.8.3->torchdecomp==1.3.0) (2.9.0.post0)\n",
      "Requirement already satisfied: filelock in /Users/tsuyusakikouki/opt/anaconda3/envs/pytorch/lib/python3.12/site-packages (from torch<3.0.0,>=2.2.0->torchdecomp==1.3.0) (3.13.1)\n",
      "Requirement already satisfied: typing-extensions>=4.8.0 in /Users/tsuyusakikouki/opt/anaconda3/envs/pytorch/lib/python3.12/site-packages (from torch<3.0.0,>=2.2.0->torchdecomp==1.3.0) (4.10.0)\n",
      "Requirement already satisfied: sympy in /Users/tsuyusakikouki/opt/anaconda3/envs/pytorch/lib/python3.12/site-packages (from torch<3.0.0,>=2.2.0->torchdecomp==1.3.0) (1.12)\n",
      "Requirement already satisfied: networkx in /Users/tsuyusakikouki/opt/anaconda3/envs/pytorch/lib/python3.12/site-packages (from torch<3.0.0,>=2.2.0->torchdecomp==1.3.0) (3.2.1)\n",
      "Requirement already satisfied: jinja2 in /Users/tsuyusakikouki/opt/anaconda3/envs/pytorch/lib/python3.12/site-packages (from torch<3.0.0,>=2.2.0->torchdecomp==1.3.0) (3.1.3)\n",
      "Requirement already satisfied: fsspec in /Users/tsuyusakikouki/opt/anaconda3/envs/pytorch/lib/python3.12/site-packages (from torch<3.0.0,>=2.2.0->torchdecomp==1.3.0) (2024.2.0)\n",
      "Requirement already satisfied: six>=1.5 in /Users/tsuyusakikouki/opt/anaconda3/envs/pytorch/lib/python3.12/site-packages (from python-dateutil>=2.7->matplotlib<4.0.0,>=3.8.3->torchdecomp==1.3.0) (1.16.0)\n",
      "Requirement already satisfied: MarkupSafe>=2.0 in /Users/tsuyusakikouki/opt/anaconda3/envs/pytorch/lib/python3.12/site-packages (from jinja2->torch<3.0.0,>=2.2.0->torchdecomp==1.3.0) (2.1.5)\n",
      "Requirement already satisfied: mpmath>=0.19 in /Users/tsuyusakikouki/opt/anaconda3/envs/pytorch/lib/python3.12/site-packages (from sympy->torch<3.0.0,>=2.2.0->torchdecomp==1.3.0) (1.3.0)\n"
     ]
    },
    {
     "data": {
      "text/plain": [
       "0"
      ]
     },
     "execution_count": 1,
     "metadata": {},
     "output_type": "execute_result"
    }
   ],
   "source": [
    "import subprocess\n",
    "repo_url = \"https://github.com/chiba-ai-med/PyTorchDecomp.git\"\n",
    "install_command = f\"pip install git+{repo_url}\"\n",
    "subprocess.check_call(install_command, shell=True)\n",
    "subprocess.check_call('pip install scikit-learn', shell=True)"
   ]
  },
  {
   "cell_type": "markdown",
   "id": "1c404806-ec5c-4a91-af04-2f7ed8b2097d",
   "metadata": {},
   "source": [
    "## Package Loading"
   ]
  },
  {
   "cell_type": "code",
   "execution_count": 2,
   "id": "a3117111-068d-4631-b16e-9cb0a34dd1ed",
   "metadata": {},
   "outputs": [],
   "source": [
    "import torch\n",
    "import torchdecomp as td"
   ]
  },
  {
   "cell_type": "code",
   "execution_count": null,
   "id": "4306f082-fe33-4f6e-a30c-b0650c7239df",
   "metadata": {},
   "outputs": [],
   "source": []
  },
  {
   "cell_type": "code",
   "execution_count": null,
   "id": "5b719715-4616-4138-ad53-49c1f4c75880",
   "metadata": {},
   "outputs": [],
   "source": []
  },
  {
   "cell_type": "code",
   "execution_count": null,
   "id": "52e57a6f-d33b-4bec-9eb9-d3a84eb97076",
   "metadata": {},
   "outputs": [],
   "source": []
  },
  {
   "cell_type": "code",
   "execution_count": null,
   "id": "da98f5ea-5078-4322-a792-550e37507a11",
   "metadata": {},
   "outputs": [],
   "source": []
  },
  {
   "cell_type": "code",
   "execution_count": null,
   "id": "40266526-ab41-4499-b5f2-90c5ef3945a1",
   "metadata": {},
   "outputs": [],
   "source": []
  },
  {
   "cell_type": "code",
   "execution_count": null,
   "id": "2870e5ea-b1bd-466d-9097-df11fce3914a",
   "metadata": {},
   "outputs": [],
   "source": []
  },
  {
   "cell_type": "code",
   "execution_count": null,
   "id": "2f6bca53-7dc3-484c-88ae-474b3ccd898a",
   "metadata": {},
   "outputs": [],
   "source": []
  },
  {
   "cell_type": "code",
   "execution_count": null,
   "id": "2a58c5ac-574e-4a11-b4c3-b5bf9c46e52b",
   "metadata": {},
   "outputs": [],
   "source": []
  },
  {
   "cell_type": "code",
   "execution_count": null,
   "id": "16e6a850-0b48-4080-9362-200bc8849617",
   "metadata": {},
   "outputs": [],
   "source": []
  },
  {
   "cell_type": "code",
   "execution_count": null,
   "id": "9fb792ad-dca3-4aad-9e8f-44791aa7379d",
   "metadata": {},
   "outputs": [],
   "source": []
  }
 ],
 "metadata": {
  "kernelspec": {
   "display_name": "Python 3 (ipykernel)",
   "language": "python",
   "name": "python3"
  },
  "language_info": {
   "codemirror_mode": {
    "name": "ipython",
    "version": 3
   },
   "file_extension": ".py",
   "mimetype": "text/x-python",
   "name": "python",
   "nbconvert_exporter": "python",
   "pygments_lexer": "ipython3",
   "version": "3.12.2"
  }
 },
 "nbformat": 4,
 "nbformat_minor": 5
}
