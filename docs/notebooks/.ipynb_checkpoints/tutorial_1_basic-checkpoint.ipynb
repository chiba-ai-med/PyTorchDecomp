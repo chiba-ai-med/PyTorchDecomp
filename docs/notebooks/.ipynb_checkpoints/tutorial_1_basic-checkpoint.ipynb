{
 "cells": [
  {
   "cell_type": "markdown",
   "id": "7a195941-8ab3-4c6a-a0c4-86e31aee794d",
   "metadata": {},
   "source": [
    "# 1. Basic Matrix Decomposition (LU, Cholesky, QR, and EVD)"
   ]
  },
  {
   "cell_type": "code",
   "execution_count": 2,
   "id": "81a52a7c-d072-42b6-b695-bcde18e51db2",
   "metadata": {},
   "outputs": [
    {
     "name": "stdout",
     "output_type": "stream",
     "text": [
      "1\n"
     ]
    }
   ],
   "source": [
    "print(1)"
   ]
  },
  {
   "cell_type": "code",
   "execution_count": null,
   "id": "99578e7f-fd37-4778-80a3-74196ce6d21a",
   "metadata": {},
   "outputs": [],
   "source": []
  }
 ],
 "metadata": {
  "kernelspec": {
   "display_name": "Python 3 (ipykernel)",
   "language": "python",
   "name": "python3"
  },
  "language_info": {
   "codemirror_mode": {
    "name": "ipython",
    "version": 3
   },
   "file_extension": ".py",
   "mimetype": "text/x-python",
   "name": "python",
   "nbconvert_exporter": "python",
   "pygments_lexer": "ipython3",
   "version": "3.12.2"
  }
 },
 "nbformat": 4,
 "nbformat_minor": 5
}
