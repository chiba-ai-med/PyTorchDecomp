{
 "cells": [
  {
   "cell_type": "markdown",
   "id": "6a498ebd-39d4-4a77-a8d7-b5b86f031618",
   "metadata": {},
   "source": [
    "# 2. Unsupervised Dimensional Reduction (PCA/SVD, ICA, and NMF)"
   ]
  },
  {
   "cell_type": "code",
   "execution_count": 2,
   "id": "42e6d6a0-d403-43a0-9972-39f77a68fdaf",
   "metadata": {},
   "outputs": [
    {
     "name": "stdout",
     "output_type": "stream",
     "text": [
      "1\n"
     ]
    }
   ],
   "source": [
    "print(1)"
   ]
  }
 ],
 "metadata": {
  "kernelspec": {
   "display_name": "Python 3 (ipykernel)",
   "language": "python",
   "name": "python3"
  },
  "language_info": {
   "codemirror_mode": {
    "name": "ipython",
    "version": 3
   },
   "file_extension": ".py",
   "mimetype": "text/x-python",
   "name": "python",
   "nbconvert_exporter": "python",
   "pygments_lexer": "ipython3",
   "version": "3.12.2"
  }
 },
 "nbformat": 4,
 "nbformat_minor": 5
}
